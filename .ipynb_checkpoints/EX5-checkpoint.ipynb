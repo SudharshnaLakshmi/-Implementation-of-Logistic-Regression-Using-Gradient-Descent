{
 "cells": [
  {
   "cell_type": "code",
   "execution_count": 2,
   "id": "a6600a8e",
   "metadata": {},
   "outputs": [],
   "source": [
    "import numpy as np\n",
    "import matplotlib.pyplot as plt\n",
    "from scipy import optimize"
   ]
  },
  {
   "cell_type": "code",
   "execution_count": 3,
   "id": "b9ce928d",
   "metadata": {},
   "outputs": [],
   "source": [
    "data=np.loadtxt(\"ex2data1.txt\",delimiter=',')\n",
    "X=data[:,[0,1]]\n",
    "y=data[:,2]"
   ]
  },
  {
   "cell_type": "code",
   "execution_count": 4,
   "id": "5c514390",
   "metadata": {},
   "outputs": [
    {
     "data": {
      "text/plain": [
       "array([[34.62365962, 78.02469282],\n",
       "       [30.28671077, 43.89499752],\n",
       "       [35.84740877, 72.90219803],\n",
       "       [60.18259939, 86.3085521 ],\n",
       "       [79.03273605, 75.34437644]])"
      ]
     },
     "execution_count": 4,
     "metadata": {},
     "output_type": "execute_result"
    }
   ],
   "source": [
    "X[:5]"
   ]
  },
  {
   "cell_type": "code",
   "execution_count": 5,
   "id": "f5a53725",
   "metadata": {},
   "outputs": [
    {
     "data": {
      "text/plain": [
       "array([0., 0., 0., 1., 1.])"
      ]
     },
     "execution_count": 5,
     "metadata": {},
     "output_type": "execute_result"
    }
   ],
   "source": [
    "y[:5]"
   ]
  },
  {
   "cell_type": "code",
   "execution_count": 6,
   "id": "aba6e546",
   "metadata": {},
   "outputs": [
    {
     "data": {
      "image/png": "[encoded data removed]",
      "text/plain": [
       "<Figure size 432x288 with 1 Axes>"
      ]
     },
     "metadata": {
      "needs_background": "light"
     },
     "output_type": "display_data"
    }
   ],
   "source": [
    "plt.figure()\n",
    "plt.scatter(X[y==1][:,0],X[y==1][:,1],label=\"Admitted\")\n",
    "plt.scatter(X[y==0][:,0],X[y==0][:,1],label=\"Not Admitted\")\n",
    "plt.xlabel(\"Exam 1 score\")\n",
    "plt.ylabel(\"Exam 2 score\")\n",
    "plt.legend()\n",
    "plt.show()"
   ]
  },
  {
   "cell_type": "code",
   "execution_count": 7,
   "id": "12f68405",
   "metadata": {},
   "outputs": [],
   "source": [
    "def sigmoid(z):\n",
    "    return 1/(1+np.exp(-z))"
   ]
  },
  {
   "cell_type": "code",
   "execution_count": 8,
   "id": "9ca20d70",
   "metadata": {},
   "outputs": [
    {
     "data": {
      "image/png": "[encoded data removed]",
      "text/plain": [
       "<Figure size 432x288 with 1 Axes>"
      ]
     },
     "metadata": {
      "needs_background": "light"
     },
     "output_type": "display_data"
    }
   ],
   "source": [
    "plt.plot()\n",
    "X_plot=np.linspace(-10,10,100)\n",
    "plt.plot(X_plot,sigmoid(X_plot))\n",
    "plt.show()"
   ]
  },
  {
   "cell_type": "code",
   "execution_count": 9,
   "id": "3c21ec30",
   "metadata": {},
   "outputs": [],
   "source": [
    "def costFunction (theta,X,y):\n",
    "    h=sigmoid(np.dot(X,theta))\n",
    "    J=-(np.dot(y,np.log(h))+np.dot(1-y,np.log(1-h)))/X.shape[0]\n",
    "    grad=np.dot(X.T,h-y)/X.shape[0]\n",
    "    return J,grad"
   ]
  },
  {
   "cell_type": "code",
   "execution_count": 10,
   "id": "a041bdc0",
   "metadata": {},
   "outputs": [
    {
     "name": "stdout",
     "output_type": "stream",
     "text": [
      "0.6931471805599452\n",
      "[ -0.1        -12.00921659 -11.26284221]\n"
     ]
    }
   ],
   "source": [
    "X_train=np.hstack((np.ones((X.shape[0],1)),X))\n",
    "theta=np.array([0,0,0])\n",
    "J,grad=costFunction(theta,X_train,y)\n",
    "print(J)\n",
    "print(grad)"
   ]
  },
  {
   "cell_type": "code",
   "execution_count": 11,
   "id": "c66722d9",
   "metadata": {},
   "outputs": [],
   "source": [
    "def cost (theta,X,y):\n",
    "    h=sigmoid(np.dot(X,theta))\n",
    "    J=-(np.dot(y,np.log(h))+np.dot(1-y,np.log(1-h)))/X.shape[0]\n",
    "    return J"
   ]
  },
  {
   "cell_type": "code",
   "execution_count": 12,
   "id": "5fa3b81a",
   "metadata": {},
   "outputs": [],
   "source": [
    "def gradient (theta,X,y):\n",
    "    h=sigmoid(np.dot(X,theta))\n",
    "    grad=np.dot(X.T,h-y)/X.shape[0]\n",
    "    return grad"
   ]
  },
  {
   "cell_type": "code",
   "execution_count": 13,
   "id": "bdfe928a",
   "metadata": {},
   "outputs": [
    {
     "name": "stdout",
     "output_type": "stream",
     "text": [
      "0.20369891341998206\n",
      "[-24.02096013   0.19710437   0.19225083]\n"
     ]
    }
   ],
   "source": [
    "X_train=np.hstack((np.ones((X.shape[0],1)),X))\n",
    "theta=np.array([0,0,0])\n",
    "res=optimize.minimize(fun=cost,x0=theta,args=(X_train,y),method='Newton-CG',jac=gradient)\n",
    "print(res.fun)\n",
    "print(res.x)"
   ]
  },
  {
   "cell_type": "code",
   "execution_count": 17,
   "id": "cbc0f3a1",
   "metadata": {},
   "outputs": [],
   "source": [
    "def plotDecisionBoundary(theta,X,y):\n",
    "    x_min,x_max=X[:,0].min()-1,X[:,0].max()+1\n",
    "    y_min,y_max=X[:,1].min()-1,X[:,1].max()+1\n",
    "    xx,yy=np.meshgrid(np.arange(x_min,x_max,0.1),np.arange(y_min,y_max,0.1))\n",
    "    X_plot=np.c_[xx.ravel(),yy.ravel()]\n",
    "    X_plot=np.hstack((np.ones((X_plot.shape[0],1)),X_plot))\n",
    "    y_plot=np.dot(X_plot,theta).reshape(xx.shape)\n",
    "    \n",
    "    plt.figure()\n",
    "    plt.scatter(X[y==1][:,0],X[y==1][:,1],label=\"Admitted\")\n",
    "    plt.scatter(X[y==0][:,0],X[y==0][:,1],label=\"Not Admitted\")\n",
    "    plt.contour(xx,yy,y_plot,levels=[0])\n",
    "    plt.xlabel(\"Exam 1 score\")\n",
    "    plt.ylabel(\"Exam 2 score\")\n",
    "    plt.legend()\n",
    "    plt.show()"
   ]
  },
  {
   "cell_type": "code",
   "execution_count": 16,
   "id": "78876636",
   "metadata": {},
   "outputs": [
    {
     "data": {
      "image/png": "[encoded data removed]",
      "text/plain": [
       "<Figure size 432x288 with 1 Axes>"
      ]
     },
     "metadata": {
      "needs_background": "light"
     },
     "output_type": "display_data"
    }
   ],
   "source": [
    "plotDecisionBoundary(res.x,X,y)"
   ]
  },
  {
   "cell_type": "code",
   "execution_count": 18,
   "id": "9b3e2f02",
   "metadata": {},
   "outputs": [
    {
     "name": "stdout",
     "output_type": "stream",
     "text": [
      "0.7667513725421617\n"
     ]
    }
   ],
   "source": [
    "prob=sigmoid(np.dot(np.array([1,45,85]),res.x))\n",
    "print(prob)"
   ]
  },
  {
   "cell_type": "code",
   "execution_count": 19,
   "id": "a6e60b0a",
   "metadata": {},
   "outputs": [
    {
     "data": {
      "text/plain": [
       "0.89"
      ]
     },
     "execution_count": 19,
     "metadata": {},
     "output_type": "execute_result"
    }
   ],
   "source": [
    "def predict(theta,X):\n",
    "    X_train =np.hstack((np.ones((X.shape[0],1)),X))\n",
    "    prob=sigmoid(np.dot(X_train,theta))\n",
    "    return (prob>=0.5).astype(int)\n",
    "np.mean(predict(res.x,X)==y)"
   ]
  }
 ],
 "metadata": {
  "kernelspec": {
   "display_name": "Python 3",
   "language": "python",
   "name": "python3"
  },
  "language_info": {
   "codemirror_mode": {
    "name": "ipython",
    "version": 3
   },
   "file_extension": ".py",
   "mimetype": "text/x-python",
   "name": "python",
   "nbconvert_exporter": "python",
   "pygments_lexer": "ipython3",
   "version": "3.8.8"
  }
 },
 "nbformat": 4,
 "nbformat_minor": 5
}
